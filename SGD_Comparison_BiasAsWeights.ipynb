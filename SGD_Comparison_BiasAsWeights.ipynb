{
 "cells": [
  {
   "cell_type": "code",
   "execution_count": 1,
   "metadata": {
    "colab": {},
    "colab_type": "code",
    "collapsed": true,
    "id": "REYPoTJ1Af7u"
   },
   "outputs": [],
   "source": [
    "import warnings\n",
    "warnings.filterwarnings(\"ignore\")\n",
    "\n",
    "import pandas as pd\n",
    "import numpy as np\n",
    "\n",
    "import matplotlib.pyplot as plt\n",
    "\n",
    "from sklearn.datasets import load_boston\n",
    "from prettytable import PrettyTable\n",
    "from sklearn.linear_model import SGDRegressor\n",
    "from sklearn import preprocessing\n",
    "from sklearn.metrics import mean_squared_error\n",
    "from sklearn.model_selection import train_test_split"
   ]
  },
  {
   "cell_type": "code",
   "execution_count": 2,
   "metadata": {
    "colab": {},
    "colab_type": "code",
    "collapsed": true,
    "id": "NTQ2iH-kAwbo"
   },
   "outputs": [],
   "source": [
    "X = load_boston().data\n",
    "Y = load_boston().target"
   ]
  },
  {
   "cell_type": "code",
   "execution_count": 3,
   "metadata": {
    "collapsed": true
   },
   "outputs": [],
   "source": [
    "X_tr, X_te, y_tr, y_te = train_test_split(X, Y, test_size=.33)"
   ]
  },
  {
   "cell_type": "code",
   "execution_count": 4,
   "metadata": {
    "collapsed": true
   },
   "outputs": [],
   "source": [
    "scaler = preprocessing.StandardScaler().fit(X_tr)\n",
    "X_tr = scaler.transform(X_tr)\n",
    "X_te = scaler.transform(X_te)"
   ]
  },
  {
   "cell_type": "markdown",
   "metadata": {},
   "source": [
    "## 1. Custom SGD implementation"
   ]
  },
  {
   "cell_type": "code",
   "execution_count": 15,
   "metadata": {},
   "outputs": [
    {
     "data": {
      "text/plain": [
       "(339, 14)"
      ]
     },
     "execution_count": 15,
     "metadata": {},
     "output_type": "execute_result"
    }
   ],
   "source": [
    "np.hstack((np.ones((X_tr.shape[0],1)), X_tr)).shape"
   ]
  },
  {
   "cell_type": "code",
   "execution_count": 8,
   "metadata": {},
   "outputs": [
    {
     "data": {
      "text/plain": [
       "(339, 1)"
      ]
     },
     "execution_count": 8,
     "metadata": {},
     "output_type": "execute_result"
    }
   ],
   "source": [
    "np.ones((X_tr.shape[0],1))"
   ]
  },
  {
   "cell_type": "code",
   "execution_count": 16,
   "metadata": {
    "collapsed": true
   },
   "outputs": [],
   "source": [
    "class CustomSGDLinearRegressor:\n",
    "    \n",
    "    def __init__(self, learning_rate, iters, k_rand_points):\n",
    "        self.w = None\n",
    "        self.b = None\n",
    "        self.X = None\n",
    "        self.y = None\n",
    "        self.r = learning_rate\n",
    "        self.k = k_rand_points\n",
    "        self.iters = iters\n",
    "        \n",
    "    def fit(self, DTrain, y):\n",
    "        \n",
    "        self.X = np.array(DTrain)\n",
    "        self.X = np.hstack( (np.ones( (self.X.shape[0], 1) ), self.X) )\n",
    "        self.y = np.array(y).reshape(-1)\n",
    "        self.w = np.random.normal(size = self.X.shape[1])\n",
    "        self.b = np.random.normal()\n",
    "        \n",
    "        for _ in range( self.iters // self.k + 1):\n",
    "#             self.findBestBias()\n",
    "            self.findBestWeights()\n",
    "    \n",
    "    def findBestWeights(self):\n",
    "        \n",
    "        opt_weights = self.w\n",
    "        r = self.r\n",
    "        \n",
    "        for _ in range(self.iters - 1):\n",
    "            opt_weights = opt_weights + ( r * 2 * self.selectKPointsforWeights( opt_weights ) ) / self.k\n",
    "            \n",
    "            r /= 2\n",
    "        \n",
    "        self.w = opt_weights\n",
    "            \n",
    "    def selectKPointsforWeights(self, weights):\n",
    "        \n",
    "        idxs = np.random.randint(0, self.X.shape[0], size = self.k)\n",
    "        \n",
    "        return (self.X[idxs] * (self.y[idxs] - (weights * self.X[idxs]).sum(axis=1) - self.b).reshape(-1,1)).sum(axis=0)\n",
    "        \n",
    "    def findBestBias(self):\n",
    "        \n",
    "        opt_b = self.b\n",
    "        r = self.r\n",
    "        \n",
    "        for _ in range(self.iters - 1):\n",
    "            opt_b = opt_b + ( r * 2 * self.selectKPointsforBias( opt_b ) ) / self.k\n",
    "                \n",
    "            r /= 2\n",
    "        \n",
    "        self.b = opt_b\n",
    "            \n",
    "    def selectKPointsforBias(self, bias):\n",
    "        \n",
    "        idxs = np.random.randint(0, self.X.shape[0], size = self.k)\n",
    "        \n",
    "        return (self.y[idxs] - (self.w * self.X[idxs]).sum(axis=1) - bias).sum()\n",
    "        \n",
    "    def predict(self, DTest):\n",
    "        \n",
    "        DTest = np.array(DTest)\n",
    "        DTest = np.hstack( (np.ones( (DTest.shape[0], 1) ), DTest) )\n",
    "\n",
    "#         return np.round( (self.w* DTest).sum(axis=1) + self.b, 1 )        \n",
    "\n",
    "        return np.round( (self.w* DTest).sum(axis=1), 1 )"
   ]
  },
  {
   "cell_type": "code",
   "execution_count": 75,
   "metadata": {
    "collapsed": true
   },
   "outputs": [],
   "source": [
    "model = CustomSGDLinearRegressor(learning_rate = .25, iters = 1000, k_rand_points = 200)"
   ]
  },
  {
   "cell_type": "markdown",
   "metadata": {},
   "source": [
    "### 1.1 Finding best weights using CustomSGD"
   ]
  },
  {
   "cell_type": "code",
   "execution_count": 85,
   "metadata": {
    "scrolled": true
   },
   "outputs": [
    {
     "name": "stdout",
     "output_type": "stream",
     "text": [
      "Custom SGD Weights:\n",
      "\n",
      " [24.10257121 -0.69651017  0.26599504 -0.58685864  0.70911331 -1.18362323\n",
      "  3.14452066 -0.23278986 -1.88314046  1.10465033 -0.39798162 -1.83181956\n",
      "  0.94932447 -3.55189254]\n",
      "\n",
      "Custom SGD MSE: 26.37197604790419\n"
     ]
    }
   ],
   "source": [
    "model.fit(X_tr, y_tr)\n",
    "\n",
    "print('Custom SGD Weights:\\n\\n', model.w)\n",
    "\n",
    "print('\\nCustom SGD MSE:', mean_squared_error(y_te, model.predict(X_te)))"
   ]
  },
  {
   "cell_type": "markdown",
   "metadata": {},
   "source": [
    "### 1.2 Plotting Actual vs Predicted values for CustomSGD"
   ]
  },
  {
   "cell_type": "code",
   "execution_count": 88,
   "metadata": {},
   "outputs": [
    {
     "data": {
      "image/png": "[encoded data removed]",
      "text/plain": [
       "<matplotlib.figure.Figure at 0x234c44f6da0>"
      ]
     },
     "metadata": {},
     "output_type": "display_data"
    }
   ],
   "source": [
    "plt.scatter(y_te, model.predict(X_te))\n",
    "plt.xlabel('Actual values')\n",
    "plt.ylabel('predicted values')\n",
    "plt.title('Plot of Custom SGD Actual vs Predicted values')\n",
    "plt.show()"
   ]
  },
  {
   "cell_type": "markdown",
   "metadata": {},
   "source": [
    "## 2. SKLearn SGDRegressor"
   ]
  },
  {
   "cell_type": "code",
   "execution_count": 26,
   "metadata": {
    "collapsed": true
   },
   "outputs": [],
   "source": [
    "clf = SGDRegressor()"
   ]
  },
  {
   "cell_type": "markdown",
   "metadata": {},
   "source": [
    "### 2.1 Finding best weights using SKLearn SGDRegressor"
   ]
  },
  {
   "cell_type": "code",
   "execution_count": 86,
   "metadata": {},
   "outputs": [
    {
     "name": "stdout",
     "output_type": "stream",
     "text": [
      "SKLearn's SGD Regressor Weights:\n",
      "\n",
      " [-0.89604951  0.30321462 -0.76636848  0.72957645 -0.55468706  3.17536303\n",
      " -0.09014438 -1.68772763  0.83585945 -0.46267422 -1.75479339  0.95253289\n",
      " -3.55558391]\n",
      "\n",
      "SKLearn's SGD Regressor MSE: 26.274725914254613\n"
     ]
    }
   ],
   "source": [
    "clf.fit(X_tr, y_tr)\n",
    "\n",
    "print('SKLearn\\'s SGD Regressor Weights:\\n\\n', clf.coef_)\n",
    "\n",
    "print('\\nSKLearn\\'s SGD Regressor MSE:', mean_squared_error(y_te, clf.predict(X_te)))"
   ]
  },
  {
   "cell_type": "markdown",
   "metadata": {},
   "source": [
    "### 1.2 Plotting Actual vs Predicted values for SKLearn SGDRegressor"
   ]
  },
  {
   "cell_type": "code",
   "execution_count": 89,
   "metadata": {},
   "outputs": [
    {
     "data": {
      "image/png": "[encoded data removed]",
      "text/plain": [
       "<matplotlib.figure.Figure at 0x234c44e07f0>"
      ]
     },
     "metadata": {},
     "output_type": "display_data"
    }
   ],
   "source": [
    "plt.scatter(y_te, clf.predict(X_te))\n",
    "plt.xlabel('Actual values')\n",
    "plt.ylabel('predicted values')\n",
    "plt.title('Plot of SKLearn\\'s SGD Regressor Actual vs Predicted values')\n",
    "plt.show()"
   ]
  },
  {
   "cell_type": "markdown",
   "metadata": {},
   "source": [
    "## 3. Weights of SGDRegressor vs CustomSGD"
   ]
  },
  {
   "cell_type": "code",
   "execution_count": 87,
   "metadata": {},
   "outputs": [
    {
     "name": "stdout",
     "output_type": "stream",
     "text": [
      "+---------------------+----------------------+----------------------+\n",
      "| Component of Weight | SKLearn SGDRegressor |      Custom SGD      |\n",
      "+---------------------+----------------------+----------------------+\n",
      "|          1          | -0.8960495111745226  |  24.10257120519149   |\n",
      "|          2          | 0.30321461752582674  | -0.6965101709961905  |\n",
      "|          3          | -0.7663684771290054  | 0.26599503823851617  |\n",
      "|          4          |  0.7295764457717323  | -0.5868586416127755  |\n",
      "|          5          | -0.5546870606491076  |  0.7091133133331444  |\n",
      "|          6          |  3.1753630328087374  |  -1.183623233545351  |\n",
      "|          7          | -0.09014437670582084 |  3.1445206561751466  |\n",
      "|          8          | -1.6877276326152442  | -0.23278985836586183 |\n",
      "|          9          |  0.8358594489064398  | -1.8831404550808866  |\n",
      "|          10         | -0.46267422204143477 |  1.104650329274077   |\n",
      "|          11         | -1.7547933915371763  | -0.3979816184193776  |\n",
      "|          12         |  0.9525328863375733  |  -1.831819561755659  |\n",
      "|          13         | -3.5555839071854134  |  0.9493244652275545  |\n",
      "+---------------------+----------------------+----------------------+\n"
     ]
    }
   ],
   "source": [
    "pt = PrettyTable()\n",
    "pt.field_names = ['Component of Weight', 'SKLearn SGDRegressor', 'Custom SGD']\n",
    "\n",
    "for idx, weights in enumerate(zip(clf.coef_, model.w)):\n",
    "    pt.add_row([ idx+1, *weights ])\n",
    "\n",
    "print(pt)"
   ]
  },
  {
   "cell_type": "markdown",
   "metadata": {},
   "source": [
    "## 4. Mean Squared Error of SGDRegressor vs CustomSGD"
   ]
  },
  {
   "cell_type": "code",
   "execution_count": 25,
   "metadata": {},
   "outputs": [
    {
     "name": "stdout",
     "output_type": "stream",
     "text": [
      "+--------+----------------------+---------------------------+\n",
      "| Metric | SKLearn SGDRegressor | Custom SGDLinearRegressor |\n",
      "+--------+----------------------+---------------------------+\n",
      "|  MSE   |  22.398904939024018  |      22.1897005988024     |\n",
      "+--------+----------------------+---------------------------+\n"
     ]
    }
   ],
   "source": [
    "pt = PrettyTable()\n",
    "\n",
    "pt.field_names = ['Metric', 'SKLearn SGDRegressor', 'Custom SGDLinearRegressor']\n",
    "\n",
    "pt.add_row(['MSE', mean_squared_error(y_te, clf.predict(X_te)), mean_squared_error(y_te, model.predict(X_te))])\n",
    "\n",
    "print(pt)"
   ]
  }
 ],
 "metadata": {
  "colab": {
   "name": "Untitled3.ipynb",
   "provenance": [],
   "version": "0.3.2"
  },
  "kernelspec": {
   "display_name": "Python 3",
   "language": "python",
   "name": "python3"
  },
  "language_info": {
   "codemirror_mode": {
    "name": "ipython",
    "version": 3
   },
   "file_extension": ".py",
   "mimetype": "text/x-python",
   "name": "python",
   "nbconvert_exporter": "python",
   "pygments_lexer": "ipython3",
   "version": "3.6.8"
  }
 },
 "nbformat": 4,
 "nbformat_minor": 1
}
